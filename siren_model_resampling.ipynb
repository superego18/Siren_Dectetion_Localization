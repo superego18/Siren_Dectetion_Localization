{
 "cells": [
  {
   "cell_type": "code",
   "execution_count": 2,
   "id": "59826ea8",
   "metadata": {},
   "outputs": [
    {
     "name": "stdout",
     "output_type": "stream",
     "text": [
      "[name: \"/device:CPU:0\"\n",
      "device_type: \"CPU\"\n",
      "memory_limit: 268435456\n",
      "locality {\n",
      "}\n",
      "incarnation: 7018222609485249541\n",
      "xla_global_id: -1\n",
      "]\n"
     ]
    }
   ],
   "source": [
    "from tensorflow.python.client import device_lib\n",
    "print(device_lib.list_local_devices())"
   ]
  },
  {
   "cell_type": "code",
   "execution_count": 1,
   "id": "21bcba8e",
   "metadata": {},
   "outputs": [
    {
     "name": "stdout",
     "output_type": "stream",
     "text": [
      "cpu 개수는: 12\n"
     ]
    }
   ],
   "source": [
    "import tensorflow as tf\n",
    "from tensorflow.keras.layers import Input, Conv1D, MaxPooling1D, Flatten, Dense, Conv2D, MaxPooling2D, Dropout, Add, BatchNormalization, Activation, Reshape\n",
    "from tensorflow.keras.models import Model, Sequential\n",
    "from tensorflow.keras.callbacks import ModelCheckpoint\n",
    "from keras.models import load_model\n",
    "\n",
    "from sklearn.model_selection import train_test_split\n",
    "from sklearn.metrics import accuracy_score, precision_score, recall_score, f1_score, roc_auc_score, roc_curve, precision_recall_curve, mean_squared_error\n",
    "\n",
    "import numpy as np\n",
    "import pandas as pd\n",
    "import matplotlib.pyplot as plt\n",
    "\n",
    "my_seed = 1027\n",
    "\n",
    "tf.random.set_seed(my_seed)\n",
    "np.random.seed(my_seed)\n",
    "\n",
    "import os\n",
    "import ast\n",
    "import csv\n",
    "\n",
    "from tqdm import tqdm\n",
    "def tqdm_close():\n",
    "    for instance in tqdm._instances:\n",
    "        instance.close()\n",
    "import multiprocessing as mp\n",
    "print('cpu 개수는:', mp.cpu_count())\n",
    "from joblib import Parallel, delayed        "
   ]
  },
  {
   "cell_type": "code",
   "execution_count": 43,
   "id": "9f3599d3",
   "metadata": {
    "scrolled": true
   },
   "outputs": [
    {
     "name": "stdout",
     "output_type": "stream",
     "text": [
      "Model: \"model_7\"\n",
      "__________________________________________________________________________________________________\n",
      " Layer (type)                   Output Shape         Param #     Connected to                     \n",
      "==================================================================================================\n",
      " input_43 (InputLayer)          [(None, 4, 10000, 1  0           []                               \n",
      "                                )]                                                                \n",
      "                                                                                                  \n",
      " conv2d_76 (Conv2D)             (None, 4, 10000, 10  200         ['input_43[0][0]']               \n",
      "                                0)                                                                \n",
      "                                                                                                  \n",
      " conv2d_77 (Conv2D)             (None, 4, 10000, 10  10100       ['conv2d_76[0][0]']              \n",
      "                                0)                                                                \n",
      "                                                                                                  \n",
      " max_pooling2d_34 (MaxPooling2D  (None, 4, 100, 100)  0          ['conv2d_77[0][0]']              \n",
      " )                                                                                                \n",
      "                                                                                                  \n",
      " tf.compat.v1.transpose_11 (TFO  (None, 100, 100, 4)  0          ['max_pooling2d_34[0][0]']       \n",
      " pLambda)                                                                                         \n",
      "                                                                                                  \n",
      " input_44 (InputLayer)          [(None, 100, 100, 4  0           []                               \n",
      "                                )]                                                                \n",
      "                                                                                                  \n",
      " conv2d_78 (Conv2D)             (None, 49, 49, 32)   2080        ['tf.compat.v1.transpose_11[0][0]\n",
      "                                                                 ']                               \n",
      "                                                                                                  \n",
      " conv2d_80 (Conv2D)             (None, 49, 49, 32)   2080        ['input_44[0][0]']               \n",
      "                                                                                                  \n",
      " conv2d_79 (Conv2D)             (None, 23, 23, 32)   16416       ['conv2d_78[0][0]']              \n",
      "                                                                                                  \n",
      " conv2d_81 (Conv2D)             (None, 23, 23, 32)   16416       ['conv2d_80[0][0]']              \n",
      "                                                                                                  \n",
      " max_pooling2d_35 (MaxPooling2D  (None, 11, 11, 32)  0           ['conv2d_79[0][0]']              \n",
      " )                                                                                                \n",
      "                                                                                                  \n",
      " max_pooling2d_36 (MaxPooling2D  (None, 11, 11, 32)  0           ['conv2d_81[0][0]']              \n",
      " )                                                                                                \n",
      "                                                                                                  \n",
      " flatten_18 (Flatten)           (None, 3872)         0           ['max_pooling2d_35[0][0]']       \n",
      "                                                                                                  \n",
      " flatten_19 (Flatten)           (None, 3872)         0           ['max_pooling2d_36[0][0]']       \n",
      "                                                                                                  \n",
      " add_2 (Add)                    (None, 3872)         0           ['flatten_18[0][0]',             \n",
      "                                                                  'flatten_19[0][0]']             \n",
      "                                                                                                  \n",
      " dense_13 (Dense)               (None, 512)          1982976     ['add_2[0][0]']                  \n",
      "                                                                                                  \n",
      " dense_14 (Dense)               (None, 64)           32832       ['dense_13[0][0]']               \n",
      "                                                                                                  \n",
      " dense_15 (Dense)               (None, 3)            195         ['dense_14[0][0]']               \n",
      "                                                                                                  \n",
      "==================================================================================================\n",
      "Total params: 2,063,295\n",
      "Trainable params: 2,063,295\n",
      "Non-trainable params: 0\n",
      "__________________________________________________________________________________________________\n"
     ]
    }
   ],
   "source": [
    "# input layer\n",
    "input_shape_1 = (4, 10000, 1) # resampling raw data\n",
    "input_shape_2 = (100, 100, 4) # frequency featuring\n",
    "\n",
    "input_layer_1 = Input(shape=input_shape_1)\n",
    "input_layer_2 = Input(shape=input_shape_2)\n",
    "\n",
    "# 1D CONV # raw feature extract\n",
    "# filter  100개로 -> log mel spectrogram + mfcc의 구성 요소 수와 동일 : 각 필터가 주파수 특성과 연관\n",
    "x1 = Conv2D(100, (1, 1), activation='relu')(input_layer_1) # (4ch, 10000t, 100feature)\n",
    "x1 = Conv2D(100, (1, 1), activation='relu')(x1) # (4, 10000, 100)\n",
    "x1 = MaxPooling2D((1, 100))(x1) # (4, 100t, 100f)\n",
    "x1 = tf.transpose(x1, perm=[0, 3, 2, 1]) # (100f, 100t, 4)\n",
    "\n",
    "# MLnet\n",
    "x1 = Conv2D(32, (4, 4), (2, 2), activation='relu')(x1) # (49, 49, 32)\n",
    "x1 = Conv2D(32, (4, 4), (2, 2), activation='relu')(x1) # (23, 23, 32)\n",
    "x1 = MaxPooling2D((2, 2), (2, 2))(x1) #(11, 11, 32)\n",
    "x1 = Flatten()(x1) #(3872)\n",
    "\n",
    "# MLnet\n",
    "x2 = Conv2D(32, (4, 4), (2, 2), activation='relu')(input_layer_2) # (49, 49, 32)\n",
    "x2 = Conv2D(32, (4, 4), (2, 2), activation='relu')(x2) # (23, 23, 32)\n",
    "x2 = MaxPooling2D((2, 2), (2, 2))(x2) #(11, 11, 32)\n",
    "x2 = Flatten()(x2) #(3872)\n",
    "\n",
    "x3 = Add()([x1, x2])\n",
    "x3 = Dense(512, activation='relu')(x3)\n",
    "x3 = Dense(64, activation='relu')(x3)\n",
    "output_layer = Dense(3)(x3)\n",
    "\n",
    "model = Model(inputs=[input_layer_1, input_layer_2], outputs=output_layer)\n",
    "\n",
    "\n",
    "initial_learning_rate, min_learning_rate  = 0.001, 0.000000001\n",
    "lr_schedule = tf.keras.optimizers.schedules.ExponentialDecay(\n",
    "    initial_learning_rate,  # 초기 학습률\n",
    "    decay_steps=10000,      # 학습률을 감소시킬 스텝 수\n",
    "    decay_rate=0.9,         # 학습률을 줄일 비율\n",
    "    staircase=False\n",
    ")\n",
    "\n",
    "optimizer = tf.keras.optimizers.Adam(learning_rate=lr_schedule)\n",
    "\n",
    "losses = ['mean_squared_error', 'mean_squared_error', tf.losses.BinaryCrossentropy(), ]\n",
    "loss_weights =  [1, 1, 0.1]\n",
    "\n",
    "model.compile(optimizer=optimizer, loss=losses, loss_weights=loss_weights)\n",
    "\n",
    "model.summary()"
   ]
  },
  {
   "cell_type": "code",
   "execution_count": 2,
   "id": "65368daa",
   "metadata": {},
   "outputs": [],
   "source": [
    "df1 = pd.read_csv('siren_class.csv')\n",
    "df0 = pd.read_csv('other_class.csv')\n",
    "df = pd.concat([df0,df1], axis=0)"
   ]
  },
  {
   "cell_type": "code",
   "execution_count": 51,
   "id": "cf5481d6",
   "metadata": {},
   "outputs": [
    {
     "name": "stdout",
     "output_type": "stream",
     "text": [
      "(5285, 25)\n",
      "Index(['ch1_raw', 'ch2_raw', 'ch3_raw', 'ch4_raw', 'ch1_rsp', 'ch2_rsp',\n",
      "       'ch3_rsp', 'ch4_rsp', 'ch1_rt', 'ch2_rt', 'ch3_rt', 'ch4_rt', 'mean',\n",
      "       'x', 'y', 'i', 'deg', 'sin', 'cos', 'dt', 'cls', 'ch1_fre', 'ch2_fre',\n",
      "       'ch3_fre', 'ch4_fre'],\n",
      "      dtype='object')\n"
     ]
    }
   ],
   "source": [
    "print(df.shape)\n",
    "print(df.columns)"
   ]
  },
  {
   "cell_type": "code",
   "execution_count": 12,
   "id": "ed749791",
   "metadata": {},
   "outputs": [
    {
     "data": {
      "text/html": [
       "<div>\n",
       "<style scoped>\n",
       "    .dataframe tbody tr th:only-of-type {\n",
       "        vertical-align: middle;\n",
       "    }\n",
       "\n",
       "    .dataframe tbody tr th {\n",
       "        vertical-align: top;\n",
       "    }\n",
       "\n",
       "    .dataframe thead th {\n",
       "        text-align: right;\n",
       "    }\n",
       "</style>\n",
       "<table border=\"1\" class=\"dataframe\">\n",
       "  <thead>\n",
       "    <tr style=\"text-align: right;\">\n",
       "      <th></th>\n",
       "      <th>ch1_rsp</th>\n",
       "      <th>ch2_rsp</th>\n",
       "      <th>ch3_rsp</th>\n",
       "      <th>ch4_rsp</th>\n",
       "    </tr>\n",
       "  </thead>\n",
       "  <tbody>\n",
       "    <tr>\n",
       "      <th>0</th>\n",
       "      <td>[131.768, 137.635, 142.722, 147.032, 150.589, ...</td>\n",
       "      <td>[122.653, 128.084, 132.783, 136.754, 140.018, ...</td>\n",
       "      <td>[173.051, 180.608, 187.113, 192.571, 197.012, ...</td>\n",
       "      <td>[114.327, 119.51, 124.032, 127.896, 131.121, 1...</td>\n",
       "    </tr>\n",
       "    <tr>\n",
       "      <th>1</th>\n",
       "      <td>[140.894, 146.984, 152.207, 156.567, 160.09, 1...</td>\n",
       "      <td>[165.034, 172.254, 178.475, 183.699, 187.958, ...</td>\n",
       "      <td>[123.228, 128.491, 132.985, 136.713, 139.698, ...</td>\n",
       "      <td>[165.757, 172.871, 178.957, 184.018, 188.084, ...</td>\n",
       "    </tr>\n",
       "    <tr>\n",
       "      <th>2</th>\n",
       "      <td>[248.296, 259.012, 268.198, 275.861, 282.044, ...</td>\n",
       "      <td>[112.943, 117.819, 122.001, 125.49, 128.308, 1...</td>\n",
       "      <td>[217.005, 226.557, 234.805, 241.754, 247.442, ...</td>\n",
       "      <td>[176.165, 183.87, 190.506, 196.079, 200.619, 2...</td>\n",
       "    </tr>\n",
       "    <tr>\n",
       "      <th>3</th>\n",
       "      <td>[136.828, 142.84, 148.028, 152.395, 155.965, 1...</td>\n",
       "      <td>[134.333, 140.267, 145.397, 149.726, 153.277, ...</td>\n",
       "      <td>[96.636, 100.843, 104.461, 107.492, 109.953, 1...</td>\n",
       "      <td>[109.245, 114.039, 118.173, 121.65, 124.489, 1...</td>\n",
       "    </tr>\n",
       "    <tr>\n",
       "      <th>4</th>\n",
       "      <td>[76.746, 80.231, 83.274, 85.877, 88.055, 89.83...</td>\n",
       "      <td>[84.06, 88.015, 91.51, 94.547, 97.14, 99.315, ...</td>\n",
       "      <td>[59.748, 62.568, 65.062, 67.233, 69.091, 70.65...</td>\n",
       "      <td>[50.851, 53.239, 55.347, 57.178, 58.741, 60.05...</td>\n",
       "    </tr>\n",
       "    <tr>\n",
       "      <th>...</th>\n",
       "      <td>...</td>\n",
       "      <td>...</td>\n",
       "      <td>...</td>\n",
       "      <td>...</td>\n",
       "    </tr>\n",
       "    <tr>\n",
       "      <th>3096</th>\n",
       "      <td>[40.284, 42.062, 43.6, 44.897, 45.962, 46.806,...</td>\n",
       "      <td>[45.057, 47.004, 48.673, 50.067, 51.192, 52.06...</td>\n",
       "      <td>[47.841, 49.984, 51.846, 53.428, 54.739, 55.79...</td>\n",
       "      <td>[49.859, 52.036, 53.911, 55.484, 56.765, 57.77...</td>\n",
       "    </tr>\n",
       "    <tr>\n",
       "      <th>3097</th>\n",
       "      <td>[70.117, 73.167, 75.788, 77.983, 79.764, 81.15...</td>\n",
       "      <td>[77.56, 80.988, 83.953, 86.455, 88.51, 90.14, ...</td>\n",
       "      <td>[64.25, 67.073, 69.509, 71.559, 73.235, 74.558...</td>\n",
       "      <td>[88.923, 92.704, 95.927, 98.594, 100.723, 102....</td>\n",
       "    </tr>\n",
       "    <tr>\n",
       "      <th>3098</th>\n",
       "      <td>[49.944, 52.108, 53.965, 55.518, 56.774, 57.74...</td>\n",
       "      <td>[57.156, 59.757, 62.028, 63.973, 65.6, 66.927,...</td>\n",
       "      <td>[80.329, 83.896, 86.985, 89.599, 91.752, 93.46...</td>\n",
       "      <td>[65.295, 68.313, 70.963, 73.248, 75.177, 76.77...</td>\n",
       "    </tr>\n",
       "    <tr>\n",
       "      <th>3099</th>\n",
       "      <td>[61.068, 63.776, 66.119, 68.101, 69.73, 71.028...</td>\n",
       "      <td>[42.233, 44.06, 45.628, 46.938, 47.997, 48.821...</td>\n",
       "      <td>[63.817, 66.674, 69.156, 71.264, 73.01, 74.414...</td>\n",
       "      <td>[65.567, 68.588, 71.238, 73.52, 75.443, 77.029...</td>\n",
       "    </tr>\n",
       "    <tr>\n",
       "      <th>3100</th>\n",
       "      <td>[47.331, 49.445, 51.279, 52.836, 54.123, 55.15...</td>\n",
       "      <td>[89.784, 93.667, 96.999, 99.782, 102.032, 103....</td>\n",
       "      <td>[80.571, 84.122, 87.189, 89.775, 91.894, 93.57...</td>\n",
       "      <td>[61.213, 63.923, 66.268, 68.248, 69.876, 71.17...</td>\n",
       "    </tr>\n",
       "  </tbody>\n",
       "</table>\n",
       "<p>5285 rows × 4 columns</p>\n",
       "</div>"
      ],
      "text/plain": [
       "                                                ch1_rsp  \\\n",
       "0     [131.768, 137.635, 142.722, 147.032, 150.589, ...   \n",
       "1     [140.894, 146.984, 152.207, 156.567, 160.09, 1...   \n",
       "2     [248.296, 259.012, 268.198, 275.861, 282.044, ...   \n",
       "3     [136.828, 142.84, 148.028, 152.395, 155.965, 1...   \n",
       "4     [76.746, 80.231, 83.274, 85.877, 88.055, 89.83...   \n",
       "...                                                 ...   \n",
       "3096  [40.284, 42.062, 43.6, 44.897, 45.962, 46.806,...   \n",
       "3097  [70.117, 73.167, 75.788, 77.983, 79.764, 81.15...   \n",
       "3098  [49.944, 52.108, 53.965, 55.518, 56.774, 57.74...   \n",
       "3099  [61.068, 63.776, 66.119, 68.101, 69.73, 71.028...   \n",
       "3100  [47.331, 49.445, 51.279, 52.836, 54.123, 55.15...   \n",
       "\n",
       "                                                ch2_rsp  \\\n",
       "0     [122.653, 128.084, 132.783, 136.754, 140.018, ...   \n",
       "1     [165.034, 172.254, 178.475, 183.699, 187.958, ...   \n",
       "2     [112.943, 117.819, 122.001, 125.49, 128.308, 1...   \n",
       "3     [134.333, 140.267, 145.397, 149.726, 153.277, ...   \n",
       "4     [84.06, 88.015, 91.51, 94.547, 97.14, 99.315, ...   \n",
       "...                                                 ...   \n",
       "3096  [45.057, 47.004, 48.673, 50.067, 51.192, 52.06...   \n",
       "3097  [77.56, 80.988, 83.953, 86.455, 88.51, 90.14, ...   \n",
       "3098  [57.156, 59.757, 62.028, 63.973, 65.6, 66.927,...   \n",
       "3099  [42.233, 44.06, 45.628, 46.938, 47.997, 48.821...   \n",
       "3100  [89.784, 93.667, 96.999, 99.782, 102.032, 103....   \n",
       "\n",
       "                                                ch3_rsp  \\\n",
       "0     [173.051, 180.608, 187.113, 192.571, 197.012, ...   \n",
       "1     [123.228, 128.491, 132.985, 136.713, 139.698, ...   \n",
       "2     [217.005, 226.557, 234.805, 241.754, 247.442, ...   \n",
       "3     [96.636, 100.843, 104.461, 107.492, 109.953, 1...   \n",
       "4     [59.748, 62.568, 65.062, 67.233, 69.091, 70.65...   \n",
       "...                                                 ...   \n",
       "3096  [47.841, 49.984, 51.846, 53.428, 54.739, 55.79...   \n",
       "3097  [64.25, 67.073, 69.509, 71.559, 73.235, 74.558...   \n",
       "3098  [80.329, 83.896, 86.985, 89.599, 91.752, 93.46...   \n",
       "3099  [63.817, 66.674, 69.156, 71.264, 73.01, 74.414...   \n",
       "3100  [80.571, 84.122, 87.189, 89.775, 91.894, 93.57...   \n",
       "\n",
       "                                                ch4_rsp  \n",
       "0     [114.327, 119.51, 124.032, 127.896, 131.121, 1...  \n",
       "1     [165.757, 172.871, 178.957, 184.018, 188.084, ...  \n",
       "2     [176.165, 183.87, 190.506, 196.079, 200.619, 2...  \n",
       "3     [109.245, 114.039, 118.173, 121.65, 124.489, 1...  \n",
       "4     [50.851, 53.239, 55.347, 57.178, 58.741, 60.05...  \n",
       "...                                                 ...  \n",
       "3096  [49.859, 52.036, 53.911, 55.484, 56.765, 57.77...  \n",
       "3097  [88.923, 92.704, 95.927, 98.594, 100.723, 102....  \n",
       "3098  [65.295, 68.313, 70.963, 73.248, 75.177, 76.77...  \n",
       "3099  [65.567, 68.588, 71.238, 73.52, 75.443, 77.029...  \n",
       "3100  [61.213, 63.923, 66.268, 68.248, 69.876, 71.17...  \n",
       "\n",
       "[5285 rows x 4 columns]"
      ]
     },
     "execution_count": 12,
     "metadata": {},
     "output_type": "execute_result"
    }
   ],
   "source": [
    "df[['ch1_rsp', 'ch2_rsp', 'ch3_rsp', 'ch4_rsp']]"
   ]
  },
  {
   "cell_type": "code",
   "execution_count": 18,
   "id": "16969daa",
   "metadata": {
    "collapsed": true
   },
   "outputs": [
    {
     "name": "stderr",
     "output_type": "stream",
     "text": [
      "100%|██████████████████████████████████████████████████████████████████████████████| 5285/5285 [32:51<00:00,  2.68it/s]\n"
     ]
    },
    {
     "ename": "ValueError",
     "evalue": "cannot reshape array of size 211400000 into shape (3,4,10000,1)",
     "output_type": "error",
     "traceback": [
      "\u001b[1;31m---------------------------------------------------------------------------\u001b[0m",
      "\u001b[1;31mValueError\u001b[0m                                Traceback (most recent call last)",
      "Cell \u001b[1;32mIn[18], line 14\u001b[0m\n\u001b[0;32m     11\u001b[0m         train_input1_sub_list\u001b[38;5;241m.\u001b[39mappend(ast\u001b[38;5;241m.\u001b[39mliteral_eval(df_input1[i][col]))\n\u001b[0;32m     12\u001b[0m     train_input1_list\u001b[38;5;241m.\u001b[39mappend(train_input1_sub_list)   \n\u001b[1;32m---> 14\u001b[0m train_input1_array \u001b[38;5;241m=\u001b[39m \u001b[43mnp\u001b[49m\u001b[38;5;241;43m.\u001b[39;49m\u001b[43marray\u001b[49m\u001b[43m(\u001b[49m\u001b[43mtrain_input1_list\u001b[49m\u001b[43m)\u001b[49m\u001b[38;5;241;43m.\u001b[39;49m\u001b[43mreshape\u001b[49m\u001b[43m(\u001b[49m\u001b[43m(\u001b[49m\u001b[38;5;241;43m3\u001b[39;49m\u001b[43m,\u001b[49m\u001b[43m \u001b[49m\u001b[38;5;241;43m4\u001b[39;49m\u001b[43m,\u001b[49m\u001b[43m \u001b[49m\u001b[38;5;241;43m10000\u001b[39;49m\u001b[43m,\u001b[49m\u001b[43m \u001b[49m\u001b[38;5;241;43m1\u001b[39;49m\u001b[43m)\u001b[49m\u001b[43m)\u001b[49m\n\u001b[0;32m     15\u001b[0m tqdm_close()\n",
      "\u001b[1;31mValueError\u001b[0m: cannot reshape array of size 211400000 into shape (3,4,10000,1)"
     ]
    }
   ],
   "source": [
    "def np_ast(str_list):\n",
    "    return np.array(ast.literal_eval(str_list))\n",
    "\n",
    "df_input1 = df[['ch1_rsp', 'ch2_rsp', 'ch3_rsp', 'ch4_rsp']].values\n",
    "len_df = len(df_input1)\n",
    "\n",
    "train_input1_list = []\n",
    "for i in tqdm(range(len_df)):\n",
    "    train_input1_sub_list = []\n",
    "    for col in range(4): \n",
    "        train_input1_sub_list.append(ast.literal_eval(df_input1[i][col]))\n",
    "    train_input1_list.append(train_input1_sub_list)   \n",
    "\n",
    "train_input1_array = np.array(train_input1_list).reshape((5285, 4, 10000, 1))\n",
    "tqdm_close()"
   ]
  },
  {
   "cell_type": "code",
   "execution_count": null,
   "id": "23e7756f",
   "metadata": {},
   "outputs": [],
   "source": [
    "df_input2 = df[['ch1_fre', 'ch2_fre', 'ch3_fre', 'ch4_fre']]\n",
    "a = df_input2.apply(lambda row: [ast.literal_eval(value) for value in row], axis=1)"
   ]
  },
  {
   "cell_type": "code",
   "execution_count": 61,
   "id": "05e5a346",
   "metadata": {
    "collapsed": true
   },
   "outputs": [
    {
     "name": "stderr",
     "output_type": "stream",
     "text": [
      "  0%|▎                                                                             | 25/5285 [00:28<1:40:06,  1.14s/it]\n"
     ]
    },
    {
     "ename": "KeyboardInterrupt",
     "evalue": "",
     "output_type": "error",
     "traceback": [
      "\u001b[1;31m---------------------------------------------------------------------------\u001b[0m",
      "\u001b[1;31mKeyboardInterrupt\u001b[0m                         Traceback (most recent call last)",
      "Cell \u001b[1;32mIn[61], line 8\u001b[0m\n\u001b[0;32m      6\u001b[0m     train_input2_sub_list \u001b[38;5;241m=\u001b[39m []\n\u001b[0;32m      7\u001b[0m     \u001b[38;5;28;01mfor\u001b[39;00m col \u001b[38;5;129;01min\u001b[39;00m \u001b[38;5;28mrange\u001b[39m(\u001b[38;5;241m4\u001b[39m): \n\u001b[1;32m----> 8\u001b[0m         train_input2_sub_list\u001b[38;5;241m.\u001b[39mappend(np\u001b[38;5;241m.\u001b[39marray(\u001b[43mast\u001b[49m\u001b[38;5;241;43m.\u001b[39;49m\u001b[43mliteral_eval\u001b[49m\u001b[43m(\u001b[49m\u001b[43mdf_input2\u001b[49m\u001b[43m[\u001b[49m\u001b[43mi\u001b[49m\u001b[43m]\u001b[49m\u001b[43m[\u001b[49m\u001b[43mcol\u001b[49m\u001b[43m]\u001b[49m\u001b[43m)\u001b[49m))\n\u001b[0;32m      9\u001b[0m     train_input2_list\u001b[38;5;241m.\u001b[39mappend(np\u001b[38;5;241m.\u001b[39marray(train_input2_sub_list))\n\u001b[0;32m     11\u001b[0m train_input2_array \u001b[38;5;241m=\u001b[39m np\u001b[38;5;241m.\u001b[39marray(train_input2_list)\n",
      "File \u001b[1;32m~\\.conda\\envs\\zolnon\\lib\\ast.py:62\u001b[0m, in \u001b[0;36mliteral_eval\u001b[1;34m(node_or_string)\u001b[0m\n\u001b[0;32m     55\u001b[0m \u001b[38;5;250m\u001b[39m\u001b[38;5;124;03m\"\"\"\u001b[39;00m\n\u001b[0;32m     56\u001b[0m \u001b[38;5;124;03mSafely evaluate an expression node or a string containing a Python\u001b[39;00m\n\u001b[0;32m     57\u001b[0m \u001b[38;5;124;03mexpression.  The string or node provided may only consist of the following\u001b[39;00m\n\u001b[0;32m     58\u001b[0m \u001b[38;5;124;03mPython literal structures: strings, bytes, numbers, tuples, lists, dicts,\u001b[39;00m\n\u001b[0;32m     59\u001b[0m \u001b[38;5;124;03msets, booleans, and None.\u001b[39;00m\n\u001b[0;32m     60\u001b[0m \u001b[38;5;124;03m\"\"\"\u001b[39;00m\n\u001b[0;32m     61\u001b[0m \u001b[38;5;28;01mif\u001b[39;00m \u001b[38;5;28misinstance\u001b[39m(node_or_string, \u001b[38;5;28mstr\u001b[39m):\n\u001b[1;32m---> 62\u001b[0m     node_or_string \u001b[38;5;241m=\u001b[39m \u001b[43mparse\u001b[49m\u001b[43m(\u001b[49m\u001b[43mnode_or_string\u001b[49m\u001b[38;5;241;43m.\u001b[39;49m\u001b[43mlstrip\u001b[49m\u001b[43m(\u001b[49m\u001b[38;5;124;43m\"\u001b[39;49m\u001b[38;5;124;43m \u001b[39;49m\u001b[38;5;130;43;01m\\t\u001b[39;49;00m\u001b[38;5;124;43m\"\u001b[39;49m\u001b[43m)\u001b[49m\u001b[43m,\u001b[49m\u001b[43m \u001b[49m\u001b[43mmode\u001b[49m\u001b[38;5;241;43m=\u001b[39;49m\u001b[38;5;124;43m'\u001b[39;49m\u001b[38;5;124;43meval\u001b[39;49m\u001b[38;5;124;43m'\u001b[39;49m\u001b[43m)\u001b[49m\n\u001b[0;32m     63\u001b[0m \u001b[38;5;28;01mif\u001b[39;00m \u001b[38;5;28misinstance\u001b[39m(node_or_string, Expression):\n\u001b[0;32m     64\u001b[0m     node_or_string \u001b[38;5;241m=\u001b[39m node_or_string\u001b[38;5;241m.\u001b[39mbody\n",
      "\u001b[1;31mKeyboardInterrupt\u001b[0m: "
     ]
    }
   ],
   "source": [
    "df_input2 = df[['ch1_fre', 'ch2_fre', 'ch3_fre', 'ch4_fre']].values\n",
    "len_df = len(df_input2)\n",
    "\n",
    "train_input2_list = []\n",
    "for i in tqdm(range(len_df)):\n",
    "    train_input2_sub_list = []\n",
    "    for col in range(4): \n",
    "        train_input2_sub_list.append(np.array(ast.literal_eval(df_input2[i][col])))\n",
    "    train_input2_list.append(np.array(train_input2_sub_list))\n",
    "\n",
    "train_input2_array = np.array(train_input2_list)\n",
    "tqdm_close()"
   ]
  },
  {
   "cell_type": "code",
   "execution_count": 27,
   "id": "b3e643f9",
   "metadata": {},
   "outputs": [],
   "source": [
    "output_array = np.array(df[['x', 'y', 'cls']].values)"
   ]
  },
  {
   "cell_type": "code",
   "execution_count": null,
   "id": "993a605d",
   "metadata": {},
   "outputs": [],
   "source": [
    "# 데이터를 준비하고 분할\n",
    "x_train_1 = input_data_array_t\n",
    "x_train_2 = input_feature_array\n",
    "y_train = input_label_array  # 타겟 데이터\n",
    "\n",
    "x_train_1, x_val_1, x_train_2, x_val_2, y_train, y_val = train_test_split(x_train_1, x_train_2, y_train, test_size=0.2, random_state=my_seed)\n",
    "\n",
    "# 모델 학습\n",
    "batch_size = 128\n",
    "epochs = 10\n",
    "\n",
    "# 입력 데이터 목록을 사용하여 모델 학습\n",
    "model.fit([x_train_1, x_train_2], y_train, validation_data=([x_val_1, x_val_2], y_val), batch_size=batch_size, epochs=epochs)"
   ]
  }
 ],
 "metadata": {
  "kernelspec": {
   "display_name": "zolnon_kernel",
   "language": "python",
   "name": "zolnon"
  },
  "language_info": {
   "codemirror_mode": {
    "name": "ipython",
    "version": 3
   },
   "file_extension": ".py",
   "mimetype": "text/x-python",
   "name": "python",
   "nbconvert_exporter": "python",
   "pygments_lexer": "ipython3",
   "version": "3.10.0"
  }
 },
 "nbformat": 4,
 "nbformat_minor": 5
}
