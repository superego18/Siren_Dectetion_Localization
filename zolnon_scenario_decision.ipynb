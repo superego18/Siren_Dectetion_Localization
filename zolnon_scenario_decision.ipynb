{
 "cells": [
  {
   "cell_type": "code",
   "execution_count": 1,
   "id": "ed34c88b",
   "metadata": {},
   "outputs": [],
   "source": [
    "import pandas as pd\n",
    "import serial"
   ]
  },
  {
   "cell_type": "code",
   "execution_count": 56,
   "id": "dd5567ec",
   "metadata": {},
   "outputs": [],
   "source": [
    "ser.close()"
   ]
  },
  {
   "cell_type": "code",
   "execution_count": 58,
   "id": "94ed7a7a",
   "metadata": {},
   "outputs": [],
   "source": [
    "ser = serial.Serial('COM10', 9600)  # COMX는 아두이노가 연결된 포트를 나타냅니다."
   ]
  },
  {
   "cell_type": "code",
   "execution_count": 77,
   "id": "04f268c3",
   "metadata": {},
   "outputs": [
    {
     "data": {
      "text/plain": [
       "1"
      ]
     },
     "execution_count": 77,
     "metadata": {},
     "output_type": "execute_result"
    }
   ],
   "source": [
    "x, y = 100, -100\n",
    "ser.write(b'3')"
   ]
  },
  {
   "cell_type": "code",
   "execution_count": 78,
   "id": "59baebf2",
   "metadata": {},
   "outputs": [
    {
     "name": "stdout",
     "output_type": "stream",
     "text": [
      "오류\n",
      "-6.066223062000001 6.7772912199999995 27.927999999999997\n",
      "시나리오2 가즈아\n"
     ]
    }
   ],
   "source": [
    "import time\n",
    "\n",
    "decision_making = 'None'\n",
    "\n",
    "while decision_making == 'None':\n",
    "#     with open('cam_output.txt', 'r') as file:\n",
    "#         # 파일 내용 읽기\n",
    "#         content = file.read()\n",
    "    try:\n",
    "        df = pd.read_csv('audio_sensor_output.csv')\n",
    "    except:\n",
    "        print('오류')\n",
    "        \n",
    "    content2=False\n",
    "    if df.shape[0] >= 5: \n",
    "        x,y,dt = df.tail(5).mean()\n",
    "\n",
    "        content2=True\n",
    "        \n",
    "    ## 시나리오2\n",
    "    if (y>-15) and (x < 60):\n",
    "        ser.write(b'2')\n",
    "        decision_making = '시나리오2'\n",
    "        print(x,y,dt)\n",
    "        print('시나리오2 가즈아')\n",
    "    ## 시나리오1\n",
    "#     if (content=='1') and (content2):\n",
    "#         if (dt < 30) or (y<30):\n",
    "#             ser.write(b'1')\n",
    "#             decision_making = '시나리오1'\n",
    "#             print(x,y,dt)\n",
    "#             print('시나리오1 가즈아')\n",
    "\n",
    "    # 0.2초 대기\n",
    "    time.sleep(0.2)\n"
   ]
  },
  {
   "cell_type": "markdown",
   "id": "81a76cf9",
   "metadata": {},
   "source": [
    "# df = pd.read_csv('audio_sensor_output.csv')"
   ]
  },
  {
   "cell_type": "code",
   "execution_count": null,
   "id": "6c365622",
   "metadata": {},
   "outputs": [],
   "source": [
    "x"
   ]
  },
  {
   "cell_type": "code",
   "execution_count": null,
   "id": "a4704893",
   "metadata": {},
   "outputs": [],
   "source": [
    "df.shape[0]"
   ]
  },
  {
   "cell_type": "code",
   "execution_count": null,
   "id": "136b5c6a",
   "metadata": {},
   "outputs": [],
   "source": [
    "df"
   ]
  },
  {
   "cell_type": "code",
   "execution_count": null,
   "id": "97b91954",
   "metadata": {},
   "outputs": [],
   "source": [
    "last_5_rows = df.tail(5)\n",
    "\n",
    "# 각 열의 평균을 계산합니다.\n",
    "x,y,z = last_5_rows.mean()\n"
   ]
  },
  {
   "cell_type": "code",
   "execution_count": null,
   "id": "6c5f8ea4",
   "metadata": {},
   "outputs": [],
   "source": [
    "column_means[1]"
   ]
  },
  {
   "cell_type": "code",
   "execution_count": null,
   "id": "4800a55f",
   "metadata": {},
   "outputs": [],
   "source": [
    "x"
   ]
  },
  {
   "cell_type": "code",
   "execution_count": null,
   "id": "3bbb17e2",
   "metadata": {},
   "outputs": [],
   "source": []
  }
 ],
 "metadata": {
  "kernelspec": {
   "display_name": "zolnon_kernel",
   "language": "python",
   "name": "zolnon"
  },
  "language_info": {
   "codemirror_mode": {
    "name": "ipython",
    "version": 3
   },
   "file_extension": ".py",
   "mimetype": "text/x-python",
   "name": "python",
   "nbconvert_exporter": "python",
   "pygments_lexer": "ipython3",
   "version": "3.10.0"
  }
 },
 "nbformat": 4,
 "nbformat_minor": 5
}
